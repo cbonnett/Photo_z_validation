{
 "cells": [
  {
   "cell_type": "code",
   "execution_count": 15,
   "metadata": {
    "collapsed": true
   },
   "outputs": [],
   "source": [
    "import pandas as pd \n",
    "import numpy as np\n",
    "%matplotlib inline\n",
    "import matplotlib.pyplot as plt \n",
    "np.random.seed(seed=42)"
   ]
  },
  {
   "cell_type": "code",
   "execution_count": 43,
   "metadata": {
    "collapsed": false
   },
   "outputs": [
    {
     "name": "stdout",
     "output_type": "stream",
     "text": [
      "(1000, 100)\n"
     ]
    },
    {
     "ename": "ValueError",
     "evalue": "Length of values does not match length of index",
     "output_type": "error",
     "traceback": [
      "\u001b[0;31m---------------------------------------------------------------------------\u001b[0m",
      "\u001b[0;31mValueError\u001b[0m                                Traceback (most recent call last)",
      "\u001b[0;32m<ipython-input-43-821e7d57e4d7>\u001b[0m in \u001b[0;36m<module>\u001b[0;34m()\u001b[0m\n\u001b[1;32m      6\u001b[0m \u001b[0mdf\u001b[0m \u001b[0;34m=\u001b[0m \u001b[0mpd\u001b[0m\u001b[0;34m.\u001b[0m\u001b[0mDataFrame\u001b[0m\u001b[0;34m(\u001b[0m\u001b[0ms\u001b[0m\u001b[0;34m,\u001b[0m \u001b[0mcolumns\u001b[0m\u001b[0;34m=\u001b[0m \u001b[0mpdf_names\u001b[0m\u001b[0;34m)\u001b[0m\u001b[0;34m\u001b[0m\u001b[0m\n\u001b[1;32m      7\u001b[0m \u001b[0mdf\u001b[0m\u001b[0;34m[\u001b[0m\u001b[0;34m'z_spec'\u001b[0m\u001b[0;34m]\u001b[0m \u001b[0;34m=\u001b[0m \u001b[0mnp\u001b[0m\u001b[0;34m.\u001b[0m\u001b[0mrandom\u001b[0m\u001b[0;34m.\u001b[0m\u001b[0muniform\u001b[0m\u001b[0;34m(\u001b[0m\u001b[0;36m0\u001b[0m\u001b[0;34m,\u001b[0m\u001b[0;36m2\u001b[0m\u001b[0;34m,\u001b[0m\u001b[0;36m1000\u001b[0m\u001b[0;34m)\u001b[0m\u001b[0;34m\u001b[0m\u001b[0m\n\u001b[0;32m----> 8\u001b[0;31m \u001b[0mdf\u001b[0m\u001b[0;34m[\u001b[0m\u001b[0;34m'weight'\u001b[0m\u001b[0;34m]\u001b[0m \u001b[0;34m=\u001b[0m \u001b[0mnp\u001b[0m\u001b[0;34m.\u001b[0m\u001b[0mrandom\u001b[0m\u001b[0;34m.\u001b[0m\u001b[0mdirichlet\u001b[0m\u001b[0;34m(\u001b[0m\u001b[0ma\u001b[0m\u001b[0;34m,\u001b[0m \u001b[0;36m1000\u001b[0m\u001b[0;34m)\u001b[0m\u001b[0;34m[\u001b[0m\u001b[0;36m0\u001b[0m\u001b[0;34m,\u001b[0m\u001b[0;34m:\u001b[0m\u001b[0;34m]\u001b[0m\u001b[0;34m\u001b[0m\u001b[0m\n\u001b[0m",
      "\u001b[0;32m/Users/Christopher_old/anaconda/lib/python2.7/site-packages/pandas/core/frame.pyc\u001b[0m in \u001b[0;36m__setitem__\u001b[0;34m(self, key, value)\u001b[0m\n\u001b[1;32m   2125\u001b[0m         \u001b[0;32melse\u001b[0m\u001b[0;34m:\u001b[0m\u001b[0;34m\u001b[0m\u001b[0m\n\u001b[1;32m   2126\u001b[0m             \u001b[0;31m# set column\u001b[0m\u001b[0;34m\u001b[0m\u001b[0;34m\u001b[0m\u001b[0m\n\u001b[0;32m-> 2127\u001b[0;31m             \u001b[0mself\u001b[0m\u001b[0;34m.\u001b[0m\u001b[0m_set_item\u001b[0m\u001b[0;34m(\u001b[0m\u001b[0mkey\u001b[0m\u001b[0;34m,\u001b[0m \u001b[0mvalue\u001b[0m\u001b[0;34m)\u001b[0m\u001b[0;34m\u001b[0m\u001b[0m\n\u001b[0m\u001b[1;32m   2128\u001b[0m \u001b[0;34m\u001b[0m\u001b[0m\n\u001b[1;32m   2129\u001b[0m     \u001b[0;32mdef\u001b[0m \u001b[0m_setitem_slice\u001b[0m\u001b[0;34m(\u001b[0m\u001b[0mself\u001b[0m\u001b[0;34m,\u001b[0m \u001b[0mkey\u001b[0m\u001b[0;34m,\u001b[0m \u001b[0mvalue\u001b[0m\u001b[0;34m)\u001b[0m\u001b[0;34m:\u001b[0m\u001b[0;34m\u001b[0m\u001b[0m\n",
      "\u001b[0;32m/Users/Christopher_old/anaconda/lib/python2.7/site-packages/pandas/core/frame.pyc\u001b[0m in \u001b[0;36m_set_item\u001b[0;34m(self, key, value)\u001b[0m\n\u001b[1;32m   2202\u001b[0m \u001b[0;34m\u001b[0m\u001b[0m\n\u001b[1;32m   2203\u001b[0m         \u001b[0mself\u001b[0m\u001b[0;34m.\u001b[0m\u001b[0m_ensure_valid_index\u001b[0m\u001b[0;34m(\u001b[0m\u001b[0mvalue\u001b[0m\u001b[0;34m)\u001b[0m\u001b[0;34m\u001b[0m\u001b[0m\n\u001b[0;32m-> 2204\u001b[0;31m         \u001b[0mvalue\u001b[0m \u001b[0;34m=\u001b[0m \u001b[0mself\u001b[0m\u001b[0;34m.\u001b[0m\u001b[0m_sanitize_column\u001b[0m\u001b[0;34m(\u001b[0m\u001b[0mkey\u001b[0m\u001b[0;34m,\u001b[0m \u001b[0mvalue\u001b[0m\u001b[0;34m)\u001b[0m\u001b[0;34m\u001b[0m\u001b[0m\n\u001b[0m\u001b[1;32m   2205\u001b[0m         \u001b[0mNDFrame\u001b[0m\u001b[0;34m.\u001b[0m\u001b[0m_set_item\u001b[0m\u001b[0;34m(\u001b[0m\u001b[0mself\u001b[0m\u001b[0;34m,\u001b[0m \u001b[0mkey\u001b[0m\u001b[0;34m,\u001b[0m \u001b[0mvalue\u001b[0m\u001b[0;34m)\u001b[0m\u001b[0;34m\u001b[0m\u001b[0m\n\u001b[1;32m   2206\u001b[0m \u001b[0;34m\u001b[0m\u001b[0m\n",
      "\u001b[0;32m/Users/Christopher_old/anaconda/lib/python2.7/site-packages/pandas/core/frame.pyc\u001b[0m in \u001b[0;36m_sanitize_column\u001b[0;34m(self, key, value)\u001b[0m\n\u001b[1;32m   2360\u001b[0m \u001b[0;34m\u001b[0m\u001b[0m\n\u001b[1;32m   2361\u001b[0m             \u001b[0;31m# turn me into an ndarray\u001b[0m\u001b[0;34m\u001b[0m\u001b[0;34m\u001b[0m\u001b[0m\n\u001b[0;32m-> 2362\u001b[0;31m             \u001b[0mvalue\u001b[0m \u001b[0;34m=\u001b[0m \u001b[0m_sanitize_index\u001b[0m\u001b[0;34m(\u001b[0m\u001b[0mvalue\u001b[0m\u001b[0;34m,\u001b[0m \u001b[0mself\u001b[0m\u001b[0;34m.\u001b[0m\u001b[0mindex\u001b[0m\u001b[0;34m,\u001b[0m \u001b[0mcopy\u001b[0m\u001b[0;34m=\u001b[0m\u001b[0mFalse\u001b[0m\u001b[0;34m)\u001b[0m\u001b[0;34m\u001b[0m\u001b[0m\n\u001b[0m\u001b[1;32m   2363\u001b[0m             \u001b[0;32mif\u001b[0m \u001b[0;32mnot\u001b[0m \u001b[0misinstance\u001b[0m\u001b[0;34m(\u001b[0m\u001b[0mvalue\u001b[0m\u001b[0;34m,\u001b[0m \u001b[0;34m(\u001b[0m\u001b[0mnp\u001b[0m\u001b[0;34m.\u001b[0m\u001b[0mndarray\u001b[0m\u001b[0;34m,\u001b[0m \u001b[0mIndex\u001b[0m\u001b[0;34m)\u001b[0m\u001b[0;34m)\u001b[0m\u001b[0;34m:\u001b[0m\u001b[0;34m\u001b[0m\u001b[0m\n\u001b[1;32m   2364\u001b[0m                 \u001b[0;32mif\u001b[0m \u001b[0misinstance\u001b[0m\u001b[0;34m(\u001b[0m\u001b[0mvalue\u001b[0m\u001b[0;34m,\u001b[0m \u001b[0mlist\u001b[0m\u001b[0;34m)\u001b[0m \u001b[0;32mand\u001b[0m \u001b[0mlen\u001b[0m\u001b[0;34m(\u001b[0m\u001b[0mvalue\u001b[0m\u001b[0;34m)\u001b[0m \u001b[0;34m>\u001b[0m \u001b[0;36m0\u001b[0m\u001b[0;34m:\u001b[0m\u001b[0;34m\u001b[0m\u001b[0m\n",
      "\u001b[0;32m/Users/Christopher_old/anaconda/lib/python2.7/site-packages/pandas/core/series.pyc\u001b[0m in \u001b[0;36m_sanitize_index\u001b[0;34m(data, index, copy)\u001b[0m\n\u001b[1;32m   2577\u001b[0m \u001b[0;34m\u001b[0m\u001b[0m\n\u001b[1;32m   2578\u001b[0m     \u001b[0;32mif\u001b[0m \u001b[0mlen\u001b[0m\u001b[0;34m(\u001b[0m\u001b[0mdata\u001b[0m\u001b[0;34m)\u001b[0m \u001b[0;34m!=\u001b[0m \u001b[0mlen\u001b[0m\u001b[0;34m(\u001b[0m\u001b[0mindex\u001b[0m\u001b[0;34m)\u001b[0m\u001b[0;34m:\u001b[0m\u001b[0;34m\u001b[0m\u001b[0m\n\u001b[0;32m-> 2579\u001b[0;31m         raise ValueError('Length of values does not match length of '\n\u001b[0m\u001b[1;32m   2580\u001b[0m                          'index')\n\u001b[1;32m   2581\u001b[0m \u001b[0;34m\u001b[0m\u001b[0m\n",
      "\u001b[0;31mValueError\u001b[0m: Length of values does not match length of index"
     ]
    }
   ],
   "source": [
    "a = np.random.random_integers(1, 100, 100)\n",
    "s = np.random.dirichlet(a, 1000)\n",
    "print s.shape\n",
    "z = np.linspace(0,2.0,100)\n",
    "pdf_names = ['pdf_' + str(i) for i in range(100)]\n",
    "df = pd.DataFrame(s, columns= pdf_names)\n",
    "df['z_spec'] = np.random.uniform(0,2,1000)\n",
    "df['weight'] = np.random.dirichlet(a, 1000)[0,:]"
   ]
  },
  {
   "cell_type": "code",
   "execution_count": 17,
   "metadata": {
    "collapsed": false
   },
   "outputs": [
    {
     "data": {
      "text/html": [
       "<div>\n",
       "<table border=\"1\" class=\"dataframe\">\n",
       "  <thead>\n",
       "    <tr style=\"text-align: right;\">\n",
       "      <th></th>\n",
       "      <th>pdf_0</th>\n",
       "      <th>pdf_1</th>\n",
       "      <th>pdf_2</th>\n",
       "      <th>pdf_3</th>\n",
       "      <th>pdf_4</th>\n",
       "      <th>pdf_5</th>\n",
       "      <th>pdf_6</th>\n",
       "      <th>pdf_7</th>\n",
       "      <th>pdf_8</th>\n",
       "      <th>pdf_9</th>\n",
       "      <th>...</th>\n",
       "      <th>pdf_92</th>\n",
       "      <th>pdf_93</th>\n",
       "      <th>pdf_94</th>\n",
       "      <th>pdf_95</th>\n",
       "      <th>pdf_96</th>\n",
       "      <th>pdf_97</th>\n",
       "      <th>pdf_98</th>\n",
       "      <th>pdf_99</th>\n",
       "      <th>z_spec</th>\n",
       "      <th>weight</th>\n",
       "    </tr>\n",
       "  </thead>\n",
       "  <tbody>\n",
       "    <tr>\n",
       "      <th>0</th>\n",
       "      <td>0.008092</td>\n",
       "      <td>0.016048</td>\n",
       "      <td>0.003233</td>\n",
       "      <td>0.015099</td>\n",
       "      <td>0.011225</td>\n",
       "      <td>0.003413</td>\n",
       "      <td>0.013246</td>\n",
       "      <td>0.018494</td>\n",
       "      <td>0.016217</td>\n",
       "      <td>0.012765</td>\n",
       "      <td>...</td>\n",
       "      <td>0.019147</td>\n",
       "      <td>0.011730</td>\n",
       "      <td>0.007820</td>\n",
       "      <td>0.016400</td>\n",
       "      <td>0.015422</td>\n",
       "      <td>0.014096</td>\n",
       "      <td>0.007739</td>\n",
       "      <td>0.004836</td>\n",
       "      <td>1.797772</td>\n",
       "      <td>0.009466</td>\n",
       "    </tr>\n",
       "    <tr>\n",
       "      <th>1</th>\n",
       "      <td>0.008682</td>\n",
       "      <td>0.017071</td>\n",
       "      <td>0.003219</td>\n",
       "      <td>0.011721</td>\n",
       "      <td>0.015499</td>\n",
       "      <td>0.005767</td>\n",
       "      <td>0.015797</td>\n",
       "      <td>0.017332</td>\n",
       "      <td>0.013524</td>\n",
       "      <td>0.011667</td>\n",
       "      <td>...</td>\n",
       "      <td>0.017028</td>\n",
       "      <td>0.012187</td>\n",
       "      <td>0.007438</td>\n",
       "      <td>0.016055</td>\n",
       "      <td>0.017929</td>\n",
       "      <td>0.016125</td>\n",
       "      <td>0.009620</td>\n",
       "      <td>0.003188</td>\n",
       "      <td>0.136269</td>\n",
       "      <td>0.016747</td>\n",
       "    </tr>\n",
       "    <tr>\n",
       "      <th>2</th>\n",
       "      <td>0.008310</td>\n",
       "      <td>0.019172</td>\n",
       "      <td>0.002295</td>\n",
       "      <td>0.013534</td>\n",
       "      <td>0.012054</td>\n",
       "      <td>0.005590</td>\n",
       "      <td>0.018083</td>\n",
       "      <td>0.017274</td>\n",
       "      <td>0.017286</td>\n",
       "      <td>0.016156</td>\n",
       "      <td>...</td>\n",
       "      <td>0.014249</td>\n",
       "      <td>0.012099</td>\n",
       "      <td>0.008920</td>\n",
       "      <td>0.016750</td>\n",
       "      <td>0.015889</td>\n",
       "      <td>0.017018</td>\n",
       "      <td>0.011053</td>\n",
       "      <td>0.005926</td>\n",
       "      <td>0.604158</td>\n",
       "      <td>0.003455</td>\n",
       "    </tr>\n",
       "    <tr>\n",
       "      <th>3</th>\n",
       "      <td>0.009450</td>\n",
       "      <td>0.018925</td>\n",
       "      <td>0.004161</td>\n",
       "      <td>0.014716</td>\n",
       "      <td>0.013958</td>\n",
       "      <td>0.003665</td>\n",
       "      <td>0.017972</td>\n",
       "      <td>0.018815</td>\n",
       "      <td>0.012034</td>\n",
       "      <td>0.015107</td>\n",
       "      <td>...</td>\n",
       "      <td>0.014079</td>\n",
       "      <td>0.013663</td>\n",
       "      <td>0.007994</td>\n",
       "      <td>0.015989</td>\n",
       "      <td>0.013037</td>\n",
       "      <td>0.015299</td>\n",
       "      <td>0.008846</td>\n",
       "      <td>0.005579</td>\n",
       "      <td>0.640460</td>\n",
       "      <td>0.015489</td>\n",
       "    </tr>\n",
       "    <tr>\n",
       "      <th>4</th>\n",
       "      <td>0.008485</td>\n",
       "      <td>0.017963</td>\n",
       "      <td>0.003577</td>\n",
       "      <td>0.015289</td>\n",
       "      <td>0.011353</td>\n",
       "      <td>0.004700</td>\n",
       "      <td>0.017929</td>\n",
       "      <td>0.017450</td>\n",
       "      <td>0.015599</td>\n",
       "      <td>0.014457</td>\n",
       "      <td>...</td>\n",
       "      <td>0.019358</td>\n",
       "      <td>0.014398</td>\n",
       "      <td>0.007598</td>\n",
       "      <td>0.014795</td>\n",
       "      <td>0.013736</td>\n",
       "      <td>0.019372</td>\n",
       "      <td>0.011800</td>\n",
       "      <td>0.004501</td>\n",
       "      <td>0.868892</td>\n",
       "      <td>0.011147</td>\n",
       "    </tr>\n",
       "  </tbody>\n",
       "</table>\n",
       "<p>5 rows × 102 columns</p>\n",
       "</div>"
      ],
      "text/plain": [
       "      pdf_0     pdf_1     pdf_2     pdf_3     pdf_4     pdf_5     pdf_6  \\\n",
       "0  0.008092  0.016048  0.003233  0.015099  0.011225  0.003413  0.013246   \n",
       "1  0.008682  0.017071  0.003219  0.011721  0.015499  0.005767  0.015797   \n",
       "2  0.008310  0.019172  0.002295  0.013534  0.012054  0.005590  0.018083   \n",
       "3  0.009450  0.018925  0.004161  0.014716  0.013958  0.003665  0.017972   \n",
       "4  0.008485  0.017963  0.003577  0.015289  0.011353  0.004700  0.017929   \n",
       "\n",
       "      pdf_7     pdf_8     pdf_9    ...       pdf_92    pdf_93    pdf_94  \\\n",
       "0  0.018494  0.016217  0.012765    ...     0.019147  0.011730  0.007820   \n",
       "1  0.017332  0.013524  0.011667    ...     0.017028  0.012187  0.007438   \n",
       "2  0.017274  0.017286  0.016156    ...     0.014249  0.012099  0.008920   \n",
       "3  0.018815  0.012034  0.015107    ...     0.014079  0.013663  0.007994   \n",
       "4  0.017450  0.015599  0.014457    ...     0.019358  0.014398  0.007598   \n",
       "\n",
       "     pdf_95    pdf_96    pdf_97    pdf_98    pdf_99    z_spec    weight  \n",
       "0  0.016400  0.015422  0.014096  0.007739  0.004836  1.797772  0.009466  \n",
       "1  0.016055  0.017929  0.016125  0.009620  0.003188  0.136269  0.016747  \n",
       "2  0.016750  0.015889  0.017018  0.011053  0.005926  0.604158  0.003455  \n",
       "3  0.015989  0.013037  0.015299  0.008846  0.005579  0.640460  0.015489  \n",
       "4  0.014795  0.013736  0.019372  0.011800  0.004501  0.868892  0.011147  \n",
       "\n",
       "[5 rows x 102 columns]"
      ]
     },
     "execution_count": 17,
     "metadata": {},
     "output_type": "execute_result"
    }
   ],
   "source": [
    "df.head()"
   ]
  },
  {
   "cell_type": "code",
   "execution_count": 8,
   "metadata": {
    "collapsed": false
   },
   "outputs": [],
   "source": [
    "df.to_csv('test_df.csv',index=False)"
   ]
  },
  {
   "cell_type": "code",
   "execution_count": 29,
   "metadata": {
    "collapsed": false
   },
   "outputs": [],
   "source": [
    "a =  type(df)"
   ]
  },
  {
   "cell_type": "code",
   "execution_count": 19,
   "metadata": {
    "collapsed": false
   },
   "outputs": [
    {
     "data": {
      "text/plain": [
       "numpy.ndarray"
      ]
     },
     "execution_count": 19,
     "metadata": {},
     "output_type": "execute_result"
    }
   ],
   "source": [
    "type(z)"
   ]
  },
  {
   "cell_type": "code",
   "execution_count": 27,
   "metadata": {
    "collapsed": false
   },
   "outputs": [
    {
     "name": "stdout",
     "output_type": "stream",
     "text": [
      "False\n"
     ]
    }
   ],
   "source": [
    "print  type(df) == 'pandas.core.frame.DataFrame'>\""
   ]
  },
  {
   "cell_type": "code",
   "execution_count": 34,
   "metadata": {
    "collapsed": false
   },
   "outputs": [
    {
     "data": {
      "text/plain": [
       "True"
      ]
     },
     "execution_count": 34,
     "metadata": {},
     "output_type": "execute_result"
    }
   ],
   "source": [
    "isinstance(z, np.ndarray)"
   ]
  },
  {
   "cell_type": "code",
   "execution_count": null,
   "metadata": {
    "collapsed": true
   },
   "outputs": [],
   "source": []
  }
 ],
 "metadata": {
  "kernelspec": {
   "display_name": "Python 2",
   "language": "python",
   "name": "python2"
  },
  "language_info": {
   "codemirror_mode": {
    "name": "ipython",
    "version": 2
   },
   "file_extension": ".py",
   "mimetype": "text/x-python",
   "name": "python",
   "nbconvert_exporter": "python",
   "pygments_lexer": "ipython2",
   "version": "2.7.10"
  }
 },
 "nbformat": 4,
 "nbformat_minor": 0
}
